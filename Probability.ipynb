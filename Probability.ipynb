{
 "cells": [
  {
   "cell_type": "markdown",
   "id": "b1a328c2-1e72-4965-8da3-8009093cb5af",
   "metadata": {},
   "source": [
    "# <en><center>Probability</center></en>"
   ]
  },
  {
   "attachments": {
    "697b1f43-0bfb-49f1-99e8-3112cf7ae3b8.png": {
     "image/png": "[encoded data removed]"
    }
   },
   "cell_type": "markdown",
   "id": "edaae9d8-c2d8-40e2-9f3a-de18226c38b8",
   "metadata": {},
   "source": [
    "![Flare.png](attachment:697b1f43-0bfb-49f1-99e8-3112cf7ae3b8.png)"
   ]
  },
  {
   "cell_type": "markdown",
   "id": "b0894d35-9266-45f2-b1fb-819e13518171",
   "metadata": {},
   "source": [
    "## Table of Contents"
   ]
  },
  {
   "cell_type": "markdown",
   "id": "897671bf-8bd5-4d93-84f4-58ffc9ef05f0",
   "metadata": {},
   "source": [
    "## Libraries"
   ]
  },
  {
   "cell_type": "code",
   "execution_count": null,
   "id": "12f03bd4-3a8b-42f5-ad31-53c1f259bd1c",
   "metadata": {},
   "outputs": [],
   "source": []
  }
 ],
 "metadata": {
  "kernelspec": {
   "display_name": "Python 3 (ipykernel)",
   "language": "python",
   "name": "python3"
  },
  "language_info": {
   "codemirror_mode": {
    "name": "ipython",
    "version": 3
   },
   "file_extension": ".py",
   "mimetype": "text/x-python",
   "name": "python",
   "nbconvert_exporter": "python",
   "pygments_lexer": "ipython3",
   "version": "3.9.12"
  }
 },
 "nbformat": 4,
 "nbformat_minor": 5
}
