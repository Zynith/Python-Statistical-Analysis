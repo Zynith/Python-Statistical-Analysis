{
 "cells": [
  {
   "cell_type": "markdown",
   "id": "b1a328c2-1e72-4965-8da3-8009093cb5af",
   "metadata": {},
   "source": [
    "# <en><center>Probability</center></en>"
   ]
  },
  {
   "attachments": {
    "697b1f43-0bfb-49f1-99e8-3112cf7ae3b8.png": {
     "image/png": "[encoded data removed]"
    }
   },
   "cell_type": "markdown",
   "id": "edaae9d8-c2d8-40e2-9f3a-de18226c38b8",
   "metadata": {},
   "source": [
    "![Flare.png](attachment:697b1f43-0bfb-49f1-99e8-3112cf7ae3b8.png)"
   ]
  },
  {
   "cell_type": "markdown",
   "id": "b0894d35-9266-45f2-b1fb-819e13518171",
   "metadata": {},
   "source": [
    "## Table of Contents\n",
    "\n",
    "- [Probability Distributions](#Probability-Distributions)\n",
    "    - [Discrete Probability Mass Functions](#Discrete-Probability-Mass-Functions)"
   ]
  },
  {
   "cell_type": "markdown",
   "id": "897671bf-8bd5-4d93-84f4-58ffc9ef05f0",
   "metadata": {},
   "source": [
    "## Libraries"
   ]
  },
  {
   "cell_type": "code",
   "execution_count": 5,
   "id": "2db794db-6027-4ff8-b364-15a5f94f42bb",
   "metadata": {},
   "outputs": [],
   "source": [
    "import numpy as np\n",
    "import scipy.stats as st\n",
    "import matplotlib.pyplot as plt\n",
    "import seaborn as sns\n",
    "\n",
    "%matplotlib inline"
   ]
  },
  {
   "cell_type": "markdown",
   "id": "1f6bef07-c03e-4f6d-b74a-9d8c27ee8a3f",
   "metadata": {
    "tags": []
   },
   "source": [
    "## Probability Distributions"
   ]
  },
  {
   "attachments": {
    "697b1f43-0bfb-49f1-99e8-3112cf7ae3b8.png": {
     "image/png": "[encoded data removed]"
    }
   },
   "cell_type": "markdown",
   "id": "e9492985-e97f-40d1-82f7-ef9ae9ddce45",
   "metadata": {},
   "source": [
    "![Flare.png](attachment:697b1f43-0bfb-49f1-99e8-3112cf7ae3b8.png)"
   ]
  },
  {
   "cell_type": "markdown",
   "id": "2bb2681a-0a38-4bc8-981a-853b43a4eb5f",
   "metadata": {},
   "source": [
    "#### Dataset"
   ]
  },
  {
   "cell_type": "code",
   "execution_count": 2,
   "id": "7223e9a7-41aa-420f-9e40-2c10cf4cceb6",
   "metadata": {},
   "outputs": [],
   "source": [
    "xs = np.linspace(-5, 10, 200)\n",
    "ks = np.arange(50)"
   ]
  },
  {
   "cell_type": "markdown",
   "id": "f3ba4e37-4b1b-4e82-af69-7e3e8d3a31c1",
   "metadata": {
    "tags": []
   },
   "source": [
    "### Discrete Probability Mass Functions\n",
    "- Binomial Distribution\n",
    "- Poisson distribution"
   ]
  },
  {
   "cell_type": "code",
   "execution_count": 9,
   "id": "0700e6ff-52a5-45c4-abd4-40c42d4a9b8d",
   "metadata": {},
   "outputs": [
    {
     "name": "stdout",
     "output_type": "stream",
     "text": [
      "0.09851840993941753\n",
      "<scipy.stats._distn_infrastructure.rv_frozen object at 0x00000291DAF38FA0>\n"
     ]
    },
    {
     "data": {
      "image/png": "[encoded data removed]",
      "text/plain": [
       "<Figure size 432x288 with 1 Axes>"
      ]
     },
     "metadata": {
      "needs_background": "light"
     },
     "output_type": "display_data"
    }
   ],
   "source": [
    "pmf_binom = st.binom.pmf(ks, 50, 0.25)\n",
    "plt.bar(ks, pmf_binom, label = \"Binomial Example (dice)\", alpha = 0.8)\n",
    "\n",
    "pmf_poisson = st.poisson.pmf(ks, 30)\n",
    "plt.bar(ks, pmf_poisson, label = \"Poisson Example (car crash)\", alpha = 0.8)\n",
    "plt.legend();\n",
    "\n",
    "\n"
   ]
  },
  {
   "cell_type": "code",
   "execution_count": 11,
   "id": "f7a41012-6013-43d0-8d3a-35a55dd4a923",
   "metadata": {},
   "outputs": [
    {
     "name": "stdout",
     "output_type": "stream",
     "text": [
      "0.09851840993941753\n",
      "0.00022087848072126846\n"
     ]
    }
   ],
   "source": [
    "print(st.binom.pmf(10, 50, 0.25))\n",
    "print(st.poisson.pmf(50, 30))"
   ]
  },
  {
   "cell_type": "markdown",
   "id": "e80956dd-0727-4983-aa6c-20b3f4ad3273",
   "metadata": {},
   "source": [
    "### Continuous Distributions"
   ]
  },
  {
   "cell_type": "code",
   "execution_count": null,
   "id": "534df41d-1960-43e9-b973-aec0351a746e",
   "metadata": {},
   "outputs": [],
   "source": []
  }
 ],
 "metadata": {
  "kernelspec": {
   "display_name": "Python 3 (ipykernel)",
   "language": "python",
   "name": "python3"
  },
  "language_info": {
   "codemirror_mode": {
    "name": "ipython",
    "version": 3
   },
   "file_extension": ".py",
   "mimetype": "text/x-python",
   "name": "python",
   "nbconvert_exporter": "python",
   "pygments_lexer": "ipython3",
   "version": "3.9.12"
  }
 },
 "nbformat": 4,
 "nbformat_minor": 5
}
